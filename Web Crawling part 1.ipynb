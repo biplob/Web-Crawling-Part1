{
 "cells": [
  {
   "cell_type": "code",
   "execution_count": 10,
   "id": "ae971d18",
   "metadata": {},
   "outputs": [
    {
     "name": "stdout",
     "output_type": "stream",
     "text": [
      "Requirement already satisfied: beautifulsoup4 in c:\\users\\ns-computer\\anaconda3\\lib\\site-packages (4.11.1)\n",
      "Requirement already satisfied: soupsieve>1.2 in c:\\users\\ns-computer\\anaconda3\\lib\\site-packages (from beautifulsoup4) (2.3.1)\n",
      "Note: you may need to restart the kernel to use updated packages.\n"
     ]
    },
    {
     "name": "stderr",
     "output_type": "stream",
     "text": [
      "WARNING: Ignoring invalid distribution -illow (c:\\users\\ns-computer\\anaconda3\\lib\\site-packages)\n",
      "WARNING: Ignoring invalid distribution -illow (c:\\users\\ns-computer\\anaconda3\\lib\\site-packages)\n",
      "WARNING: Ignoring invalid distribution -illow (c:\\users\\ns-computer\\anaconda3\\lib\\site-packages)\n",
      "WARNING: Ignoring invalid distribution -illow (c:\\users\\ns-computer\\anaconda3\\lib\\site-packages)\n",
      "WARNING: Ignoring invalid distribution -illow (c:\\users\\ns-computer\\anaconda3\\lib\\site-packages)\n",
      "WARNING: Ignoring invalid distribution -illow (c:\\users\\ns-computer\\anaconda3\\lib\\site-packages)\n"
     ]
    }
   ],
   "source": [
    "pip install beautifulsoup4"
   ]
  },
  {
   "cell_type": "code",
   "execution_count": 16,
   "id": "14d784b8",
   "metadata": {},
   "outputs": [
    {
     "name": "stdout",
     "output_type": "stream",
     "text": [
      "Requirement already satisfied: requests in c:\\users\\ns-computer\\anaconda3\\lib\\site-packages (2.27.1)\n",
      "Requirement already satisfied: certifi>=2017.4.17 in c:\\users\\ns-computer\\anaconda3\\lib\\site-packages (from requests) (2021.10.8)\n",
      "Requirement already satisfied: charset-normalizer~=2.0.0 in c:\\users\\ns-computer\\anaconda3\\lib\\site-packages (from requests) (2.0.4)\n",
      "Requirement already satisfied: urllib3<1.27,>=1.21.1 in c:\\users\\ns-computer\\anaconda3\\lib\\site-packages (from requests) (1.26.9)\n",
      "Requirement already satisfied: idna<4,>=2.5 in c:\\users\\ns-computer\\anaconda3\\lib\\site-packages (from requests) (3.3)\n",
      "Note: you may need to restart the kernel to use updated packages.\n"
     ]
    },
    {
     "name": "stderr",
     "output_type": "stream",
     "text": [
      "WARNING: Ignoring invalid distribution -illow (c:\\users\\ns-computer\\anaconda3\\lib\\site-packages)\n",
      "WARNING: Ignoring invalid distribution -illow (c:\\users\\ns-computer\\anaconda3\\lib\\site-packages)\n",
      "WARNING: Ignoring invalid distribution -illow (c:\\users\\ns-computer\\anaconda3\\lib\\site-packages)\n",
      "WARNING: Ignoring invalid distribution -illow (c:\\users\\ns-computer\\anaconda3\\lib\\site-packages)\n",
      "WARNING: Ignoring invalid distribution -illow (c:\\users\\ns-computer\\anaconda3\\lib\\site-packages)\n",
      "WARNING: Ignoring invalid distribution -illow (c:\\users\\ns-computer\\anaconda3\\lib\\site-packages)\n"
     ]
    }
   ],
   "source": [
    "pip install requests"
   ]
  },
  {
   "cell_type": "code",
   "execution_count": 17,
   "id": "8f90b502",
   "metadata": {},
   "outputs": [
    {
     "name": "stdout",
     "output_type": "stream",
     "text": [
      "Requirement already satisfied: lxml in c:\\users\\ns-computer\\anaconda3\\lib\\site-packages (4.8.0)\n",
      "Note: you may need to restart the kernel to use updated packages.\n"
     ]
    },
    {
     "name": "stderr",
     "output_type": "stream",
     "text": [
      "WARNING: Ignoring invalid distribution -illow (c:\\users\\ns-computer\\anaconda3\\lib\\site-packages)\n",
      "WARNING: Ignoring invalid distribution -illow (c:\\users\\ns-computer\\anaconda3\\lib\\site-packages)\n",
      "WARNING: Ignoring invalid distribution -illow (c:\\users\\ns-computer\\anaconda3\\lib\\site-packages)\n",
      "WARNING: Ignoring invalid distribution -illow (c:\\users\\ns-computer\\anaconda3\\lib\\site-packages)\n",
      "WARNING: Ignoring invalid distribution -illow (c:\\users\\ns-computer\\anaconda3\\lib\\site-packages)\n",
      "WARNING: Ignoring invalid distribution -illow (c:\\users\\ns-computer\\anaconda3\\lib\\site-packages)\n"
     ]
    }
   ],
   "source": [
    "pip install lxml"
   ]
  },
  {
   "cell_type": "code",
   "execution_count": 45,
   "id": "db98ffab",
   "metadata": {},
   "outputs": [
    {
     "name": "stdout",
     "output_type": "stream",
     "text": [
      "Scrapping pages 1\n",
      "Scrapping pages 2\n",
      "Scrapping pages 3\n",
      "Scrapping pages 4\n",
      "Scrapping pages 5\n",
      "Scrapping pages 6\n",
      "Scrapping pages 7\n",
      "Scrapping pages 8\n",
      "Scrapping pages 9\n",
      "Scrapping pages 10\n",
      "Scrapping pages 11\n",
      "Scrapping pages 12\n",
      "Scrapping pages 13\n",
      "Scrapping pages 14\n",
      "Scrapping pages 15\n",
      "Scrapping pages 16\n",
      "Scrapping pages 17\n",
      "Scrapping pages 18\n",
      "Scrapping pages 19\n",
      "Scrapping pages 20\n",
      "Scrapping pages 21\n",
      "Scrapping pages 22\n",
      "Scrapping pages 23\n",
      "Scrapping pages 24\n",
      "Scrapping pages 25\n",
      "Scrapping pages 26\n",
      "Scrapping pages 27\n",
      "Scrapping pages 28\n",
      "Scrapping pages 29\n",
      "Scrapping pages 30\n",
      "Scrapping pages 31\n",
      "Scrapping pages 32\n",
      "Scrapping pages 33\n",
      "Scrapping pages 34\n",
      "Scrapping pages 35\n",
      "Scrapping pages 36\n",
      "Scrapping pages 37\n",
      "Scrapping pages 38\n",
      "Scrapping pages 39\n",
      "Scrapping pages 40\n",
      "Scrapping pages 41\n",
      "Scrapping pages 42\n",
      "Scrapping pages 43\n",
      "Scrapping pages 44\n",
      "Scrapping pages 45\n",
      "Scrapping pages 46\n",
      "Scrapping pages 47\n",
      "Scrapping pages 48\n",
      "Scrapping pages 49\n"
     ]
    }
   ],
   "source": [
    "import requests\n",
    "from bs4 import BeautifulSoup\n",
    "import json\n",
    "import pandas as pd\n",
    "\n",
    "headers = {\"User-Agent\":\"Mozilla/5.0 (Windows NT 10.0; Win64; x64) AppleWebKit/537.36 (KHTML, like Gecko) Chrome/97.0.4692.71 Safari/537.36\"}\n",
    "\n",
    "final = []\n",
    "\n",
    "for page in range(1,50):\n",
    "    \n",
    "    url = f'https://rj.olx.com.br/rio-de-janeiro-e-regiao/imoveis/aluguel?o={page}'\n",
    "    \n",
    "    landing_page = requests.get(url,headers=headers)\n",
    "    print(f'Scrapping pages {page}')\n",
    "    soup = BeautifulSoup(landing_page.text, 'html.parser')\n",
    "    \n",
    "    dirty = soup.find('script',{'id':'initial-data'})['data-json']\n",
    "    clean = json.loads(dirty.replace('&quot;','\"'))\n",
    "    \n",
    "    data = clean['listingProps']['adList']\n",
    "    for listing in data:\n",
    "        \n",
    "        try:\n",
    "            listing.pop('images') # clean up csv\n",
    "            listing.pop('properties')\n",
    "            \n",
    "        except:\n",
    "            continue # some listing don't have images/properties\n",
    "            \n",
    "        final.append(listing)\n",
    "        \n",
    "\n",
    "df = pd.DataFrame(final)\n",
    "df.to_csv('result.csv',index=False)\n",
    "            "
   ]
  },
  {
   "cell_type": "code",
   "execution_count": null,
   "id": "c8267790",
   "metadata": {},
   "outputs": [],
   "source": []
  }
 ],
 "metadata": {
  "kernelspec": {
   "display_name": "Python 3 (ipykernel)",
   "language": "python",
   "name": "python3"
  },
  "language_info": {
   "codemirror_mode": {
    "name": "ipython",
    "version": 3
   },
   "file_extension": ".py",
   "mimetype": "text/x-python",
   "name": "python",
   "nbconvert_exporter": "python",
   "pygments_lexer": "ipython3",
   "version": "3.9.12"
  }
 },
 "nbformat": 4,
 "nbformat_minor": 5
}
